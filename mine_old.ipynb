{
 "cells": [
  {
   "cell_type": "code",
   "execution_count": null,
   "id": "c9af7b04",
   "metadata": {},
   "outputs": [],
   "source": [
    "import pdfplumber\n",
    "import pandas as pd\n",
    "import itertools"
   ]
  },
  {
   "cell_type": "code",
   "execution_count": null,
   "id": "79df0e45",
   "metadata": {},
   "outputs": [],
   "source": [
    "pdf = pdfplumber.open(\"framtiden/Framtiden_arsredovisning_2020.pdf\")"
   ]
  },
  {
   "cell_type": "code",
   "execution_count": null,
   "id": "5a0fa196",
   "metadata": {},
   "outputs": [],
   "source": [
    "pdf"
   ]
  },
  {
   "cell_type": "code",
   "execution_count": null,
   "id": "490c15ee",
   "metadata": {},
   "outputs": [],
   "source": [
    "page = pdf.pages[116]\n",
    "\n",
    "page = page.crop((56.238, 100, 555.278, 755)) #50, 560\n",
    "im = page.to_image()\n",
    "\n",
    "im"
   ]
  },
  {
   "cell_type": "code",
   "execution_count": null,
   "id": "f3ebd01f",
   "metadata": {},
   "outputs": [],
   "source": [
    "table_settings = {\n",
    "    \"vertical_strategy\": \"text\", \n",
    "    \"horizontal_strategy\": \"lines\",\n",
    "    \"explicit_vertical_lines\": [],\n",
    "    \"explicit_horizontal_lines\": [],\n",
    "    \"snap_tolerance\": 3,\n",
    "    \"join_tolerance\": 3,\n",
    "    \"edge_min_length\": 3,\n",
    "    \"min_words_vertical\": 3,\n",
    "    \"min_words_horizontal\": 1,\n",
    "    \"keep_blank_chars\": False,\n",
    "    \"text_tolerance\": 3,\n",
    "    \"intersection_tolerance\": 3,\n",
    "}\n",
    "\n",
    "\n",
    "im.reset().debug_tablefinder(table_settings)"
   ]
  },
  {
   "cell_type": "code",
   "execution_count": null,
   "id": "71ba0415",
   "metadata": {},
   "outputs": [],
   "source": [
    "set([x[0] for x in page.find_tables(table_settings)[0].cells])\n",
    "\n",
    "page.find_tables(table_settings)[0].bbox\n"
   ]
  },
  {
   "cell_type": "code",
   "execution_count": null,
   "id": "32e6cbf3",
   "metadata": {},
   "outputs": [],
   "source": [
    "table_settings = {\n",
    "    \"vertical_strategy\": \"lines\", \n",
    "    \"horizontal_strategy\": \"lines\",\n",
    "    \"explicit_vertical_lines\": [56.238, 121.716, 150.626, 216.8005, 310, 335.985, 374.940, 398.572, 449.021, 495.298, 525.278, 555.278],\n",
    "    \"explicit_horizontal_lines\": [],\n",
    "    \"snap_tolerance\": 3,\n",
    "    \"join_tolerance\": 3,\n",
    "    \"edge_min_length\": 3,\n",
    "    \"min_words_vertical\": 3,\n",
    "    \"min_words_horizontal\": 1,\n",
    "    \"keep_blank_chars\": False,\n",
    "    \"text_tolerance\": 3,\n",
    "    \"text_x_tolerance\": None,\n",
    "    \"text_y_tolerance\": None,\n",
    "    \"intersection_tolerance\": 3,\n",
    "    \"intersection_x_tolerance\": None,\n",
    "    \"intersection_y_tolerance\": None,\n",
    "}\n",
    "\n",
    "\n",
    "im.reset().debug_tablefinder(table_settings)"
   ]
  },
  {
   "cell_type": "code",
   "execution_count": null,
   "id": "e937560b",
   "metadata": {},
   "outputs": [],
   "source": [
    "page.extract_table(table_settings)"
   ]
  },
  {
   "cell_type": "code",
   "execution_count": null,
   "id": "09888aea",
   "metadata": {},
   "outputs": [],
   "source": []
  },
  {
   "cell_type": "code",
   "execution_count": null,
   "id": "5b636bf0",
   "metadata": {},
   "outputs": [],
   "source": [
    "#pages = pdf.pages[115:139]\n",
    "\n",
    "#pages[0].to_image()\n",
    "\n",
    "offset = 14\n",
    "\n",
    "im = None\n",
    "for p_number in range(115, 139 + 1):\n",
    "    vertical_lines = [56.238 - 10,56.238, 121.716, 150.626, 216.8005, 310, 335.985, 374.940, 398.572, 449.021, 495.298, 525.278, 555, 555.278 + 10]\n",
    "    p_crop = [56.238 - 10, 100, 555.278 + 10, 755 + 10]\n",
    "    \n",
    "    if p_number % 2 == 1:\n",
    "        vertical_lines = [l_number - offset for l_number in vertical_lines]\n",
    "        p_crop[0] -= offset\n",
    "        p_crop[2] -= offset\n",
    "         #tuple(x - offset for x in p_crop)\n",
    "        \n",
    "    p = pdf.pages[p_number]\n",
    "    p = p.crop(p_crop) #50, 560\n",
    "    \n",
    "    im = p.to_image()\n",
    "    \n",
    "    table_settings = {\n",
    "        \"vertical_strategy\": \"lines\", \n",
    "        \"horizontal_strategy\": \"lines\",\n",
    "        \"explicit_vertical_lines\": vertical_lines,\n",
    "        \"explicit_horizontal_lines\": [],\n",
    "        \"snap_tolerance\": 3,\n",
    "        \"join_tolerance\": 3,\n",
    "        \"edge_min_length\": 3,\n",
    "        \"min_words_vertical\": 3,\n",
    "        \"min_words_horizontal\": 1,\n",
    "        \"keep_blank_chars\": False,\n",
    "        \"text_tolerance\": 3,\n",
    "        \"text_x_tolerance\": None,\n",
    "        \"text_y_tolerance\": None,\n",
    "        \"intersection_tolerance\": 3,\n",
    "        \"intersection_x_tolerance\": None,\n",
    "        \"intersection_y_tolerance\": None,\n",
    "    }\n",
    "    \n",
    "    if p_number == 116:\n",
    "        break\n",
    "        \n",
    "\n",
    "im.reset().debug_tablefinder(table_settings)"
   ]
  },
  {
   "cell_type": "code",
   "execution_count": null,
   "id": "07a24123",
   "metadata": {},
   "outputs": [],
   "source": [
    "p.extract_table(table_settings)"
   ]
  },
  {
   "cell_type": "code",
   "execution_count": null,
   "id": "7f9af45e",
   "metadata": {},
   "outputs": [],
   "source": [
    "p.find_tables(table_settings)[0].rows[0].__dict__"
   ]
  },
  {
   "cell_type": "code",
   "execution_count": null,
   "id": "bda9a7ff",
   "metadata": {},
   "outputs": [],
   "source": []
  },
  {
   "cell_type": "code",
   "execution_count": null,
   "id": "98727c9c",
   "metadata": {},
   "outputs": [],
   "source": [
    "offset = 14\n",
    "\n",
    "tables = []\n",
    "\n",
    "#im = None\n",
    "for p_number in range(115, 138 + 1):\n",
    "    print(p_number)\n",
    "    \n",
    "    vertical_lines = [56.238 - 10,56.238, 121.716, 150.626, 216.8005, 310, 335.985, 374.940, 398.572, 449.021, 495.298, 525.278, 555, 555.278 + 10]\n",
    "    p_crop = [56.238 - 10, 100, 555.278 + 10, 755 + 10]\n",
    "    \n",
    "    if p_number % 2 == 1:\n",
    "        vertical_lines = [l_number - offset for l_number in vertical_lines]\n",
    "        p_crop[0] -= offset\n",
    "        p_crop[2] -= offset\n",
    "         #tuple(x - offset for x in p_crop)\n",
    "        \n",
    "    p = pdf.pages[p_number]\n",
    "    p = p.crop(p_crop) #50, 560\n",
    "    \n",
    "    #im = p.to_image()\n",
    "    \n",
    "    table_settings = {\n",
    "        \"vertical_strategy\": \"lines\", \n",
    "        \"horizontal_strategy\": \"lines\",\n",
    "        \"explicit_vertical_lines\": vertical_lines,\n",
    "        \"explicit_horizontal_lines\": [],\n",
    "        \"snap_tolerance\": 3,\n",
    "        \"join_tolerance\": 3,\n",
    "        \"edge_min_length\": 3,\n",
    "        \"min_words_vertical\": 3,\n",
    "        \"min_words_horizontal\": 1,\n",
    "        \"keep_blank_chars\": False,\n",
    "        \"text_tolerance\": 3,\n",
    "        \"text_x_tolerance\": None,\n",
    "        \"text_y_tolerance\": None,\n",
    "        \"intersection_tolerance\": 3,\n",
    "        \"intersection_x_tolerance\": None,\n",
    "        \"intersection_y_tolerance\": None,\n",
    "    }\n",
    "    \n",
    "    tables.append(p.extract_table(table_settings))\n",
    "    \n",
    "    #if p_number == 116:\n",
    "    #    break\n",
    "        \n",
    "\n",
    "#im.reset().debug_tablefinder(table_settings)\n",
    "\n",
    "\n",
    "tables"
   ]
  },
  {
   "cell_type": "code",
   "execution_count": null,
   "id": "fa612476",
   "metadata": {
    "scrolled": false
   },
   "outputs": [],
   "source": [
    "pd.DataFrame(tables[0])"
   ]
  },
  {
   "cell_type": "code",
   "execution_count": null,
   "id": "60b2edf4",
   "metadata": {},
   "outputs": [],
   "source": [
    "first_line = ['',\n",
    "  'Stadsdel/\\nPrimär–\\nområden',\n",
    "  'Fastig-\\nhets–\\nägare 1)',\n",
    "  'Fastighets–\\nbeteckning',\n",
    "  'Besöksadress V',\n",
    "  'ärde år',\n",
    "  'Bostads–\\nyta, kvm',\n",
    "  'Lokal–\\nyta, \\nkvm',\n",
    "  'Antal \\nbostäder',\n",
    "  'Taxerings–\\nvärde, tkr',\n",
    "  'Hyres-\\nvärde, \\ntkr 2)',\n",
    "  'Bostads-\\nhyra,\\nkr/kvm 3)',\n",
    "  '']\n",
    "\n",
    "for table in tables:\n",
    "    assert table[0] == first_line\n",
    "    \n",
    "    for row in table:\n",
    "        assert (row[0] == '' or row[0] is None) and (row[-1] == '' or row[-1] is None)"
   ]
  },
  {
   "cell_type": "code",
   "execution_count": null,
   "id": "985a1085",
   "metadata": {
    "scrolled": false
   },
   "outputs": [],
   "source": [
    "def parse_table(raw_table):\n",
    "    table = []\n",
    "    \n",
    "    assert raw_table[0] == first_line\n",
    "    \n",
    "    rows = []\n",
    "    \n",
    "    for raw_row in raw_table[1:]:\n",
    "        row = raw_row[1:-1]\n",
    "        \n",
    "        if set(row) == {''}: # empty row\n",
    "            continue\n",
    "        \n",
    "        if len(row[0]) > 0 and set(row[1:]) == {''}: # område title\n",
    "            continue\n",
    "        \n",
    "        if len(row[0]) > 0 and set(row[1:5]) == {''}: # område sum\n",
    "            continue\n",
    "            \n",
    "        if row[0].startswith('SUMMA'):\n",
    "            continue\n",
    "        \n",
    "        #print(row)\n",
    "        \n",
    "        rows.append(row)\n",
    "    \n",
    "    return rows\n",
    "\n",
    "rows = list(itertools.chain.from_iterable([parse_table(raw_table) for raw_table in tables]))\n",
    "\n",
    "df = pd.DataFrame(rows, columns=['Stadsdel/Primärområden', 'Fastighetsägare', 'Fastighetsbeteckning', 'Besöksadress', 'Värde år', 'Bostads–yta, kvm', 'Lokal–yta, kvm', 'Antal bostäder', 'Taxerings–värde, tkr', 'Hyres-värde, tkr', 'Bostadshyra, kr/kvm'])\n",
    "pd.set_option(\"display.max_rows\", None, \"display.max_columns\", None)\n",
    "\n",
    "df"
   ]
  },
  {
   "cell_type": "code",
   "execution_count": null,
   "id": "45fa86db",
   "metadata": {},
   "outputs": [],
   "source": []
  }
 ],
 "metadata": {
  "kernelspec": {
   "display_name": "Python 3",
   "language": "python",
   "name": "python3"
  },
  "language_info": {
   "codemirror_mode": {
    "name": "ipython",
    "version": 3
   },
   "file_extension": ".py",
   "mimetype": "text/x-python",
   "name": "python",
   "nbconvert_exporter": "python",
   "pygments_lexer": "ipython3",
   "version": "3.9.4"
  }
 },
 "nbformat": 4,
 "nbformat_minor": 5
}
